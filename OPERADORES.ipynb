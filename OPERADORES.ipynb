{
 "cells": [
  {
   "cell_type": "code",
   "execution_count": 1,
   "id": "c20de671",
   "metadata": {},
   "outputs": [],
   "source": [
    "# Operadores relacionais\n",
    "# == igualdade\n",
    "# > maior\n",
    "# < menor\n",
    "# != diferente\n",
    "# >= maior igual\n",
    "# <= menor igual"
   ]
  },
  {
   "cell_type": "code",
   "execution_count": 2,
   "id": "5d49f367",
   "metadata": {},
   "outputs": [
    {
     "name": "stdout",
     "output_type": "stream",
     "text": [
      "False\n"
     ]
    }
   ],
   "source": [
    "var1 = 4\n",
    "var2 = 6\n",
    "print(var1 == var2)"
   ]
  },
  {
   "cell_type": "code",
   "execution_count": 3,
   "id": "134014a1",
   "metadata": {},
   "outputs": [
    {
     "name": "stdout",
     "output_type": "stream",
     "text": [
      "False\n"
     ]
    }
   ],
   "source": [
    "mediaProva = 5\n",
    "mediaAprovacao = 6\n",
    "resultado = mediaProva >= mediaAprovacao\n",
    "print(resultado)"
   ]
  },
  {
   "cell_type": "code",
   "execution_count": 4,
   "id": "df326a97",
   "metadata": {},
   "outputs": [],
   "source": [
    "#Operadores aritmeticos\n",
    "#+soma\n",
    "#**exponenciacao\n"
   ]
  },
  {
   "cell_type": "code",
   "execution_count": 5,
   "id": "0f3b3d21",
   "metadata": {},
   "outputs": [
    {
     "name": "stdout",
     "output_type": "stream",
     "text": [
      "10\n"
     ]
    }
   ],
   "source": [
    "result = 4 + 3*2\n",
    "print(result)\n"
   ]
  },
  {
   "cell_type": "code",
   "execution_count": 6,
   "id": "a625ba50",
   "metadata": {},
   "outputs": [
    {
     "name": "stdout",
     "output_type": "stream",
     "text": [
      "16\n"
     ]
    }
   ],
   "source": [
    "result = 2**4\n",
    "print(result)"
   ]
  },
  {
   "cell_type": "code",
   "execution_count": 7,
   "id": "bd088fd7",
   "metadata": {},
   "outputs": [],
   "source": [
    "# Operdores Lógicos\n",
    "# not - negação\n",
    "# and - conjunção\n",
    "# or - disjunção"
   ]
  },
  {
   "cell_type": "code",
   "execution_count": 8,
   "id": "410e6e27",
   "metadata": {},
   "outputs": [
    {
     "name": "stdout",
     "output_type": "stream",
     "text": [
      "False\n",
      "True\n",
      "False\n"
     ]
    }
   ],
   "source": [
    "aprovado1 = True\n",
    "aprovado2 = False\n",
    "print(aprovado1 and aprovado2)\n",
    "print(aprovado1 or aprovado2)\n",
    "print(not aprovado1 and aprovado2)"
   ]
  },
  {
   "cell_type": "code",
   "execution_count": null,
   "id": "d07de33d",
   "metadata": {},
   "outputs": [],
   "source": []
  }
 ],
 "metadata": {
  "kernelspec": {
   "display_name": "Python 3 (ipykernel)",
   "language": "python",
   "name": "python3"
  },
  "language_info": {
   "codemirror_mode": {
    "name": "ipython",
    "version": 3
   },
   "file_extension": ".py",
   "mimetype": "text/x-python",
   "name": "python",
   "nbconvert_exporter": "python",
   "pygments_lexer": "ipython3",
   "version": "3.9.6"
  }
 },
 "nbformat": 4,
 "nbformat_minor": 5
}
