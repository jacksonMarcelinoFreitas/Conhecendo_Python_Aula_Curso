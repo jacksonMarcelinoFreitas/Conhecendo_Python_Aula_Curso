{
 "cells": [
  {
   "cell_type": "code",
   "execution_count": 1,
   "id": "2ed1fbd9",
   "metadata": {},
   "outputs": [],
   "source": [
    "def somar (v1, v2):\n",
    "    res = v1 + v2\n",
    "    return res\n",
    "\n",
    "\n"
   ]
  },
  {
   "cell_type": "code",
   "execution_count": 2,
   "id": "9abb3996",
   "metadata": {},
   "outputs": [
    {
     "name": "stdout",
     "output_type": "stream",
     "text": [
      "13\n"
     ]
    }
   ],
   "source": [
    "soma = somar(5,8)\n",
    "print(soma)\n"
   ]
  },
  {
   "cell_type": "code",
   "execution_count": 7,
   "id": "50987d34",
   "metadata": {},
   "outputs": [],
   "source": [
    "def mensagem(nome =\"Visitante\"):\n",
    "    print(\"Seja Bem-Vindo\", nome)"
   ]
  },
  {
   "cell_type": "code",
   "execution_count": 4,
   "id": "dba7c60a",
   "metadata": {},
   "outputs": [
    {
     "name": "stdout",
     "output_type": "stream",
     "text": [
      "Seja Bem-Vindo Ackley\n"
     ]
    }
   ],
   "source": [
    "mensagem(\"Ackley\")"
   ]
  },
  {
   "cell_type": "code",
   "execution_count": 8,
   "id": "25c805bc",
   "metadata": {},
   "outputs": [
    {
     "name": "stdout",
     "output_type": "stream",
     "text": [
      "Seja Bem-Vindo Visitante\n"
     ]
    }
   ],
   "source": [
    "mensagem()"
   ]
  }
 ],
 "metadata": {
  "kernelspec": {
   "display_name": "Python 3 (ipykernel)",
   "language": "python",
   "name": "python3"
  },
  "language_info": {
   "codemirror_mode": {
    "name": "ipython",
    "version": 3
   },
   "file_extension": ".py",
   "mimetype": "text/x-python",
   "name": "python",
   "nbconvert_exporter": "python",
   "pygments_lexer": "ipython3",
   "version": "3.9.6"
  }
 },
 "nbformat": 4,
 "nbformat_minor": 5
}
