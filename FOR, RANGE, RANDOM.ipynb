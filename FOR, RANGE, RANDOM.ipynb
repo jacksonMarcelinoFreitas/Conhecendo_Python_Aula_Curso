{
 "cells": [
  {
   "cell_type": "code",
   "execution_count": null,
   "id": "fb0ee0e3",
   "metadata": {},
   "outputs": [],
   "source": [
    "#FOR IN \n",
    "for i in (5,7,4,6,9,2):\n",
    "    print(i) \n",
    "    \n"
   ]
  },
  {
   "cell_type": "code",
   "execution_count": null,
   "id": "18764cac",
   "metadata": {},
   "outputs": [],
   "source": [
    "# RANGE (alcance)\n",
    "for i in range(5): # até 4\n",
    "    print(i)\n",
    "    "
   ]
  },
  {
   "cell_type": "code",
   "execution_count": 1,
   "id": "90d001d9",
   "metadata": {},
   "outputs": [
    {
     "name": "stdout",
     "output_type": "stream",
     "text": [
      "5\n",
      "6\n",
      "7\n",
      "8\n",
      "9\n"
     ]
    }
   ],
   "source": [
    "for i in range(5,10): # INTERVALO ( 5 a 9)\n",
    "    print(i)\n"
   ]
  },
  {
   "cell_type": "code",
   "execution_count": null,
   "id": "12de7796",
   "metadata": {},
   "outputs": [],
   "source": [
    "for i in range(0,20,2): # limite inferior, limite superior, passo\n",
    "    print(i)"
   ]
  },
  {
   "cell_type": "code",
   "execution_count": null,
   "id": "0b8bd081",
   "metadata": {},
   "outputs": [],
   "source": [
    "#pegando limites do usuário\n",
    "superior = int(input(\"Digite o limite superior: \"))\n",
    "inferior = int(input(\"Digite o limite inferior: \"))\n",
    "\n",
    "for i in range (inferior,superior):\n",
    "    print(i)"
   ]
  },
  {
   "cell_type": "code",
   "execution_count": 2,
   "id": "5be556b7",
   "metadata": {},
   "outputs": [
    {
     "name": "stdout",
     "output_type": "stream",
     "text": [
      "Digite a quantidade de números aleatórios que deseja gerar: 30\n",
      "Digite o limite inferior: 56\n",
      "Digite o limite superior: 100\n",
      "91\n",
      "73\n",
      "62\n",
      "88\n",
      "98\n",
      "68\n",
      "79\n",
      "75\n",
      "81\n",
      "75\n",
      "58\n",
      "71\n",
      "62\n",
      "57\n",
      "58\n",
      "62\n",
      "95\n",
      "83\n",
      "65\n",
      "87\n",
      "88\n",
      "76\n",
      "60\n",
      "78\n",
      "80\n",
      "82\n",
      "70\n",
      "56\n",
      "98\n",
      "76\n"
     ]
    }
   ],
   "source": [
    "#gera uma quantidade de números aleatórios em um determinado intervalo de números!\n",
    "#Importa uma biblioteca onde é definido um nome a esta (rd).\n",
    "import random as rd\n",
    "\n",
    "quant = int(input(\"Digite a quantidade de números aleatórios que deseja gerar: \"))\n",
    "inferior = int(input(\"Digite o limite inferior: \"))\n",
    "superior = int(input(\"Digite o limite superior: \"))\n",
    "\n",
    "for i in range (0, quant): # faz o alcance \n",
    "    aleatorio = rd.randint(inferior, superior) # faz o intervalo\n",
    "    print(aleatorio) # exibe os númeors aleátórios\n",
    "    "
   ]
  },
  {
   "cell_type": "code",
   "execution_count": 3,
   "id": "d4e1c84d",
   "metadata": {},
   "outputs": [
    {
     "name": "stdout",
     "output_type": "stream",
     "text": [
      "5\n",
      "7\n",
      "4\n",
      "8\n",
      "9\n",
      "6\n",
      "2\n"
     ]
    }
   ],
   "source": [
    "for i in(5,7,4,8,9,6,2):\n",
    "    print(i)"
   ]
  },
  {
   "cell_type": "code",
   "execution_count": null,
   "id": "4af5d19a",
   "metadata": {},
   "outputs": [],
   "source": []
  }
 ],
 "metadata": {
  "kernelspec": {
   "display_name": "Python 3 (ipykernel)",
   "language": "python",
   "name": "python3"
  },
  "language_info": {
   "codemirror_mode": {
    "name": "ipython",
    "version": 3
   },
   "file_extension": ".py",
   "mimetype": "text/x-python",
   "name": "python",
   "nbconvert_exporter": "python",
   "pygments_lexer": "ipython3",
   "version": "3.9.6"
  }
 },
 "nbformat": 4,
 "nbformat_minor": 5
}
