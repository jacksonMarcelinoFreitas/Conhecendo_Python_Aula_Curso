{
 "cells": [
  {
   "cell_type": "code",
   "execution_count": 24,
   "id": "d1e33c43",
   "metadata": {},
   "outputs": [],
   "source": [
    "\"\"\"\"1) Faça um programa com uma função chamada somaImposto. A função possui dois parâmetros formais:\n",
    "taxaImposto,  que  é  a  quantia  de  imposto  sobre  vendas  expressa  em  porcentagem  e custo,\n",
    "que é o custo de um item antes do imposto. A função “altera” o valor de custo para incluir o imposto sobre vendas. \"\"\"\n",
    "\n",
    "def somaImposto(taxaImposto, custo):\n",
    "    imposto = 0\n",
    "    imposto = custo + ((taxaImposto/100+1)*custo)\n",
    "    print(\"O valor do imposto sobre vendas é de: %d \" %(imposto)) "
   ]
  },
  {
   "cell_type": "code",
   "execution_count": 20,
   "id": "e7af95fe",
   "metadata": {},
   "outputs": [
    {
     "ename": "NameError",
     "evalue": "name 'somaImpost' is not defined",
     "output_type": "error",
     "traceback": [
      "\u001b[1;31m---------------------------------------------------------------------------\u001b[0m",
      "\u001b[1;31mNameError\u001b[0m                                 Traceback (most recent call last)",
      "\u001b[1;32m~\\AppData\\Local\\Temp/ipykernel_14732/3618711902.py\u001b[0m in \u001b[0;36m<module>\u001b[1;34m\u001b[0m\n\u001b[1;32m----> 1\u001b[1;33m \u001b[0msomaImpost\u001b[0m\u001b[1;33m(\u001b[0m\u001b[1;36m1\u001b[0m\u001b[1;33m,\u001b[0m\u001b[1;36m2\u001b[0m\u001b[1;33m)\u001b[0m\u001b[1;33m\u001b[0m\u001b[1;33m\u001b[0m\u001b[0m\n\u001b[0m",
      "\u001b[1;31mNameError\u001b[0m: name 'somaImpost' is not defined"
     ]
    }
   ],
   "source": [
    "somaImpost(1,2)"
   ]
  }
 ],
 "metadata": {
  "kernelspec": {
   "display_name": "Python 3 (ipykernel)",
   "language": "python",
   "name": "python3"
  },
  "language_info": {
   "codemirror_mode": {
    "name": "ipython",
    "version": 3
   },
   "file_extension": ".py",
   "mimetype": "text/x-python",
   "name": "python",
   "nbconvert_exporter": "python",
   "pygments_lexer": "ipython3",
   "version": "3.9.6"
  }
 },
 "nbformat": 4,
 "nbformat_minor": 5
}
