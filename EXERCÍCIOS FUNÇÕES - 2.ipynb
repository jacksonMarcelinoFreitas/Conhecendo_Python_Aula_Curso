{
 "cells": [
  {
   "cell_type": "code",
   "execution_count": 6,
   "id": "4421cc5e",
   "metadata": {},
   "outputs": [
    {
     "name": "stdout",
     "output_type": "stream",
     "text": [
      "Informe a Taxa de Imposto em porcentagem25\n",
      "Informe o custo do produto32\n"
     ]
    }
   ],
   "source": [
    "\"\"\"\n",
    " - - Exercício 01\n",
    "Faça um programa com uma função chamada somaImposto. A função possui dois parâmetros formais: \n",
    "taxaImposto, que é a quantia de imposto sobre vendas expressa em porcentagem e custo, que é o custo\n",
    "de um item antes do imposto. A função “altera” o valor de custo para incluir o imposto sobre vendas.\n",
    "\n",
    "\"\"\"\n",
    "taxaImposto = int(input(\"Informe a Taxa de Imposto em porcentagem\"))\n",
    "custoProduto = int(input(\"Informe o custo do produto\"))"
   ]
  },
  {
   "cell_type": "code",
   "execution_count": 7,
   "id": "51f79e75",
   "metadata": {},
   "outputs": [],
   "source": [
    "def somaImposto(custo, taxa):\n",
    "    custoTotal = custo + ((taxa/100) * custo)\n",
    "    print(\"O valor da produto com o imposto é de: R$ %d\" %(custoTotal))"
   ]
  },
  {
   "cell_type": "code",
   "execution_count": 9,
   "id": "2efa3913",
   "metadata": {},
   "outputs": [
    {
     "name": "stdout",
     "output_type": "stream",
     "text": [
      "O valor da produto com o imposto é de: R$ 40\n"
     ]
    }
   ],
   "source": [
    "somaImposto(custoProduto, taxaImposto)"
   ]
  },
  {
   "cell_type": "code",
   "execution_count": 1,
   "id": "ec508b02",
   "metadata": {},
   "outputs": [
    {
     "name": "stdout",
     "output_type": "stream",
     "text": [
      "Informe uma data no formato dd/mm/AAA \n",
      "\n",
      "Informe um dia\n",
      "Informe um mês\n",
      "Informe um ano\n"
     ]
    }
   ],
   "source": [
    "\"\"\"\n",
    " - - Exercício 02\n",
    "Data  com  mês  por  extenso.  \n",
    "Construa  uma  função  que  receba  uma  data  no  formato DD/MM/AAAA\n",
    "e devolva uma string no formato D de mesPorExtenso de AAAA. Opcionalmente, valide a data e retorne\n",
    "NULL caso a data seja inválida.\n",
    "\n",
    "\"\"\"\n",
    "print(\"Informe uma data no formato dd/mm/AAA \\n\")\n",
    "dia = input(\"Informe um dia\")\n",
    "mes = input(\"Informe um mês\")\n",
    "ano = input(\"Informe um ano\")"
   ]
  },
  {
   "cell_type": "code",
   "execution_count": 2,
   "id": "c64e094e",
   "metadata": {},
   "outputs": [],
   "source": [
    "def mesPorExtenso(dia, mes, ano):\n",
    "    extenso = \"mês\"\n",
    "    if(mes == \"01\" ):\n",
    "        extenso = \"Janeiro\"\n",
    "    elif(mes == \"02\"):\n",
    "        extenso = \"Fevereiro\"\n",
    "    elif(mes == \"03\"):\n",
    "        extenso = \"Março\"\n",
    "    elif(mes == \"04\"):\n",
    "        extenso = \"Abril\"\n",
    "    elif(mes == \"05\"):\n",
    "        extenso = \"Maio\"\n",
    "    elif(mes == \"06\"):\n",
    "        extenso = \"Junho\"\n",
    "    elif(mes == \"07\"):\n",
    "        extenso = \"Julho\"\n",
    "    elif(mes == \"08\"):\n",
    "        extenso = \"Agosto\"\n",
    "    elif(mes == \"09\"):\n",
    "        extenso = \"Setembro\"\n",
    "    elif(mes == \"10\"):\n",
    "        extenso = \"Outubro\"\n",
    "    elif(mes == \"11\"):\n",
    "        extenso = \"Novembro\"\n",
    "    else:\n",
    "        extenso = \"Dezembro\"\n",
    "    \n",
    "    print(\"=====A data por extenso é===== : \\n\" + dia + \", de \" + extenso + \" de \" + ano)\n",
    "\n",
    "    \n",
    "     "
   ]
  },
  {
   "cell_type": "code",
   "execution_count": 3,
   "id": "d33849be",
   "metadata": {},
   "outputs": [
    {
     "name": "stdout",
     "output_type": "stream",
     "text": [
      "=====A data por extenso é===== : \n",
      ", de Dezembro de \n"
     ]
    }
   ],
   "source": [
    "mesPorExtenso(dia, mes, ano)"
   ]
  },
  {
   "cell_type": "code",
   "execution_count": null,
   "id": "62f82d4d",
   "metadata": {},
   "outputs": [],
   "source": []
  }
 ],
 "metadata": {
  "kernelspec": {
   "display_name": "Python 3 (ipykernel)",
   "language": "python",
   "name": "python3"
  },
  "language_info": {
   "codemirror_mode": {
    "name": "ipython",
    "version": 3
   },
   "file_extension": ".py",
   "mimetype": "text/x-python",
   "name": "python",
   "nbconvert_exporter": "python",
   "pygments_lexer": "ipython3",
   "version": "3.9.6"
  }
 },
 "nbformat": 4,
 "nbformat_minor": 5
}
