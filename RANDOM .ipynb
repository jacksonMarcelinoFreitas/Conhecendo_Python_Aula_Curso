{
 "cells": [
  {
   "cell_type": "code",
   "execution_count": 43,
   "id": "ea690e4b",
   "metadata": {},
   "outputs": [
    {
     "name": "stdout",
     "output_type": "stream",
     "text": [
      "0.7166223333022566\n"
     ]
    }
   ],
   "source": [
    "# foi incluido a biblioteca random e a chamamos de \"rd\"\n",
    "import random as rd \n",
    "valor1 = rd.random() # define a variável que vai receber números aleatórios\n",
    "print(valor1) # mostra \n",
    "\n"
   ]
  },
  {
   "cell_type": "code",
   "execution_count": 71,
   "id": "16ec5477",
   "metadata": {},
   "outputs": [
    {
     "name": "stdout",
     "output_type": "stream",
     "text": [
      "84\n"
     ]
    }
   ],
   "source": [
    "#randômicos inteiros\n",
    "valor2 = rd.randint(1,100) # valores interios aleatórios entre um intervalo\n",
    "print(valor2)\n"
   ]
  }
 ],
 "metadata": {
  "kernelspec": {
   "display_name": "Python 3 (ipykernel)",
   "language": "python",
   "name": "python3"
  },
  "language_info": {
   "codemirror_mode": {
    "name": "ipython",
    "version": 3
   },
   "file_extension": ".py",
   "mimetype": "text/x-python",
   "name": "python",
   "nbconvert_exporter": "python",
   "pygments_lexer": "ipython3",
   "version": "3.9.6"
  }
 },
 "nbformat": 4,
 "nbformat_minor": 5
}
