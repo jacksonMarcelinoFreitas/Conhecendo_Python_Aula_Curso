{
 "cells": [
  {
   "cell_type": "code",
   "execution_count": 14,
   "id": "1daabee6",
   "metadata": {},
   "outputs": [
    {
     "name": "stdout",
     "output_type": "stream",
     "text": [
      "posição 0, 0 - valor: 1 \n",
      "posição 0, 1 - valor: 2 \n",
      "posição 0, 2 - valor: 3 \n",
      "posição 1, 0 - valor: 4 \n",
      "posição 1, 1 - valor: 5 \n",
      "posição 1, 2 - valor: 6 \n",
      "posição 2, 0 - valor: 7 \n",
      "posição 2, 1 - valor: 8 \n",
      "posição 2, 2 - valor: 9 \n",
      "posição 3, 0 - valor: 10 \n",
      "posição 3, 1 - valor: 11 \n",
      "posição 3, 2 - valor: 12 \n",
      "posição 4, 0 - valor: 13 \n",
      "posição 4, 1 - valor: 14 \n",
      "posição 4, 2 - valor: 15 \n"
     ]
    }
   ],
   "source": [
    "matriz = [[1,2,3],[4,5,6],[7,8,9],[10,11,12],[13,14,15]]\n",
    "#print(len(matriz)) #primeira dimensão\n",
    "\n",
    "for i in range(len(matriz)): #para cada vez que um roda o outro roda 3 vezes\n",
    "    for j in range(len(matriz[i])):\n",
    "        print(\"posição %d, %d - valor: %d \" %(i, j, matriz[i][j]))\n",
    "        \n",
    "        "
   ]
  },
  {
   "cell_type": "code",
   "execution_count": 15,
   "id": "dffb404b",
   "metadata": {},
   "outputs": [
    {
     "name": "stdout",
     "output_type": "stream",
     "text": [
      "3\n"
     ]
    }
   ],
   "source": [
    "print(len(matriz[0]))"
   ]
  },
  {
   "cell_type": "code",
   "execution_count": 18,
   "id": "386fa049",
   "metadata": {},
   "outputs": [
    {
     "name": "stdout",
     "output_type": "stream",
     "text": [
      "Digite o valor para a posição 0, 0 : 1\n",
      "Digite o valor para a posição 0, 1 : 2\n",
      "Digite o valor para a posição 0, 2 : 4\n",
      "Digite o valor para a posição 1, 0 : 4\n",
      "Digite o valor para a posição 1, 1 : 4\n",
      "Digite o valor para a posição 1, 2 : 4\n",
      "Digite o valor para a posição 2, 0 : 4\n",
      "Digite o valor para a posição 2, 1 : 45\n",
      "Digite o valor para a posição 2, 2 : 1\n",
      "Digite o valor para a posição 3, 0 : 2\n",
      "Digite o valor para a posição 3, 1 : 4\n",
      "Digite o valor para a posição 3, 2 : 5\n",
      "Digite o valor para a posição 4, 0 : 1\n",
      "Digite o valor para a posição 4, 1 : 4\n",
      "Digite o valor para a posição 4, 2 : 11\n",
      "\n",
      "[[1, 2, 4], [4, 4, 4], [4, 45, 1], [2, 4, 5], [1, 4, 11]]\n",
      "========================================\n",
      "[1, 2, 4]\n",
      "[4, 4, 4]\n",
      "[4, 45, 1]\n",
      "[2, 4, 5]\n",
      "[1, 4, 11]\n"
     ]
    }
   ],
   "source": [
    "for i in range(len(matriz)): #para cada vez que um roda o outro roda 3 vezes\n",
    "    for j in range(len(matriz[i])):\n",
    "        matriz[i][j]= int(input(\"Digite o valor para a posição %d, %d : \" %(i,j)))\n",
    "        \n",
    "print()\n",
    "print(matriz)\n",
    "print('=='*20)\n",
    "for linha in matriz:\n",
    "    print(linha)"
   ]
  },
  {
   "cell_type": "code",
   "execution_count": 20,
   "id": "c2852f2d",
   "metadata": {},
   "outputs": [
    {
     "name": "stdout",
     "output_type": "stream",
     "text": [
      "[8, 7]\n",
      "[9, 6]\n",
      "[5, 4]\n",
      "[8, 7]\n",
      "[3, 5]\n"
     ]
    }
   ],
   "source": [
    "lista = [[8,7],[9,6],[5,4],[8,7],[3,5]]\n",
    "for i in lista:\n",
    "    print(i)\n",
    "    "
   ]
  },
  {
   "cell_type": "code",
   "execution_count": 25,
   "id": "03cbdc84",
   "metadata": {},
   "outputs": [
    {
     "name": "stdout",
     "output_type": "stream",
     "text": [
      "[8, 7]\n",
      "[9, 6]\n",
      "[5, 4]\n",
      "[8, 7]\n",
      "[3, 5]\n"
     ]
    }
   ],
   "source": [
    "lista = [[8,7],[9,6],[5,4],[8,7],[3,5]]\n",
    "for j in range(len(lista)):\n",
    "    print(lista[j])"
   ]
  },
  {
   "cell_type": "code",
   "execution_count": 8,
   "id": "9b6bac50",
   "metadata": {},
   "outputs": [
    {
     "name": "stdout",
     "output_type": "stream",
     "text": [
      "Digite o valor para a posição 0, 0 : 1\n",
      "Digite o valor para a posição 0, 1 : 2\n",
      "Digite o valor para a posição 0, 2 : 3\n",
      "Digite o valor para a posição 1, 0 : 4\n",
      "Digite o valor para a posição 1, 1 : 5\n",
      "Digite o valor para a posição 1, 2 : 6\n",
      "Digite o valor para a posição 2, 0 : 7\n",
      "Digite o valor para a posição 2, 1 : 8\n",
      "Digite o valor para a posição 2, 2 : 9\n",
      "\n",
      "[[1, 2, 3], [4, 5, 6], [7, 8, 9]]\n",
      "========================================\n",
      "[1, 2, 3]\n",
      "[4, 5, 6]\n",
      "[7, 8, 9]\n"
     ]
    }
   ],
   "source": [
    "l, c = 3, 3\n",
    "matriz = []\n",
    "\n",
    "for i in range(l):\n",
    "    linha = []\n",
    "    for j in range(c):\n",
    "        linha.append(int(input(\"Digite o valor para a posição %d, %d : \" %(i,j))))\n",
    "    matriz.append(linha)\n",
    "\n",
    "print()\n",
    "print(matriz)\n",
    "print('=='*20)\n",
    "for linha in matriz:\n",
    "    print(linha)\n",
    "    \n",
    "        "
   ]
  }
 ],
 "metadata": {
  "kernelspec": {
   "display_name": "Python 3 (ipykernel)",
   "language": "python",
   "name": "python3"
  },
  "language_info": {
   "codemirror_mode": {
    "name": "ipython",
    "version": 3
   },
   "file_extension": ".py",
   "mimetype": "text/x-python",
   "name": "python",
   "nbconvert_exporter": "python",
   "pygments_lexer": "ipython3",
   "version": "3.9.6"
  }
 },
 "nbformat": 4,
 "nbformat_minor": 5
}
