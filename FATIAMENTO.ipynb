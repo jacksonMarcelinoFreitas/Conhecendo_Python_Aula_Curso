{
 "cells": [
  {
   "cell_type": "code",
   "execution_count": 3,
   "id": "1e344f2f",
   "metadata": {},
   "outputs": [
    {
     "name": "stdout",
     "output_type": "stream",
     "text": [
      "[1, 2, 3, 4, 5, 6, 7, 8, 9]\n"
     ]
    }
   ],
   "source": [
    "#Fatiamento de listas(slice)\n",
    "lista1 = [1,2,3,4,5,6,7,8,9]\n",
    "lista2 = lista1\n",
    "print(lista2)\n"
   ]
  },
  {
   "cell_type": "code",
   "execution_count": 4,
   "id": "0b697291",
   "metadata": {},
   "outputs": [
    {
     "name": "stdout",
     "output_type": "stream",
     "text": [
      "9\n"
     ]
    }
   ],
   "source": [
    "print(lista1[-1])"
   ]
  },
  {
   "cell_type": "code",
   "execution_count": 5,
   "id": "1fdb9ad6",
   "metadata": {},
   "outputs": [
    {
     "name": "stdout",
     "output_type": "stream",
     "text": [
      "[1, 2, 3, 10, 4, 5, 6, 7, 8, 9]\n"
     ]
    }
   ],
   "source": [
    "lista1.insert(3,10) #Faz a inserção na posição especificada\n",
    "print(lista1)"
   ]
  },
  {
   "cell_type": "code",
   "execution_count": 7,
   "id": "6becd48d",
   "metadata": {},
   "outputs": [
    {
     "name": "stdout",
     "output_type": "stream",
     "text": [
      "[1, 2, 3, 10, 10, 4, 5, 6, 7, 8, 9, 0, 0]\n"
     ]
    }
   ],
   "source": [
    "lista1.append(0) #Faz a inserção ao final da lista\n",
    "print(lista1)"
   ]
  },
  {
   "cell_type": "code",
   "execution_count": 10,
   "id": "c6bde605",
   "metadata": {},
   "outputs": [
    {
     "name": "stdout",
     "output_type": "stream",
     "text": [
      "[1, 2, 3, 10, 10, 4, 5, 6, 7, 8, 9, 0, 11]\n"
     ]
    }
   ],
   "source": [
    "lista1[-1] = 11 #Faz a substituição\n",
    "print(lista1)"
   ]
  },
  {
   "cell_type": "code",
   "execution_count": 2,
   "id": "f4b3028f",
   "metadata": {},
   "outputs": [
    {
     "name": "stdout",
     "output_type": "stream",
     "text": [
      "[5, 8]\n"
     ]
    }
   ],
   "source": [
    "notas = [] # Inserindo valores em um array\n",
    "notas.append(5)\n",
    "notas.append(8)\n",
    "print(notas)"
   ]
  },
  {
   "cell_type": "code",
   "execution_count": 4,
   "id": "5c126316",
   "metadata": {},
   "outputs": [
    {
     "ename": "IndexError",
     "evalue": "pop index out of range",
     "output_type": "error",
     "traceback": [
      "\u001b[1;31m---------------------------------------------------------------------------\u001b[0m",
      "\u001b[1;31mIndexError\u001b[0m                                Traceback (most recent call last)",
      "\u001b[1;32m~\\AppData\\Local\\Temp/ipykernel_10536/2701110590.py\u001b[0m in \u001b[0;36m<module>\u001b[1;34m\u001b[0m\n\u001b[1;32m----> 1\u001b[1;33m \u001b[0mretirado\u001b[0m \u001b[1;33m=\u001b[0m \u001b[0mnotas\u001b[0m\u001b[1;33m.\u001b[0m\u001b[0mpop\u001b[0m\u001b[1;33m(\u001b[0m\u001b[1;36m1\u001b[0m\u001b[1;33m)\u001b[0m\u001b[1;33m\u001b[0m\u001b[1;33m\u001b[0m\u001b[0m\n\u001b[0m\u001b[0;32m      2\u001b[0m \u001b[0mprint\u001b[0m\u001b[1;33m(\u001b[0m\u001b[0mretirado\u001b[0m\u001b[1;33m)\u001b[0m\u001b[1;33m\u001b[0m\u001b[1;33m\u001b[0m\u001b[0m\n\u001b[0;32m      3\u001b[0m \u001b[0mprint\u001b[0m\u001b[1;33m(\u001b[0m\u001b[0mnotas\u001b[0m\u001b[1;33m)\u001b[0m\u001b[1;33m\u001b[0m\u001b[1;33m\u001b[0m\u001b[0m\n",
      "\u001b[1;31mIndexError\u001b[0m: pop index out of range"
     ]
    }
   ],
   "source": [
    "retirado = notas.pop(1)\n",
    "print(retirado)\n",
    "print(notas)"
   ]
  },
  {
   "cell_type": "code",
   "execution_count": 6,
   "id": "33416a1e",
   "metadata": {},
   "outputs": [
    {
     "name": "stdout",
     "output_type": "stream",
     "text": [
      "[1, 2, 3, 4, 5, 6, 7, 8, 9]\n"
     ]
    }
   ],
   "source": [
    "lista1 = [1,2,3,4,5,6,7,8,9]\n",
    "lista2 = lista1\n",
    "print(lista2)"
   ]
  },
  {
   "cell_type": "code",
   "execution_count": 8,
   "id": "e31c0341",
   "metadata": {},
   "outputs": [
    {
     "name": "stdout",
     "output_type": "stream",
     "text": [
      "[1, 2, 3, 4, 5, 6, 7, 8, 0]\n"
     ]
    }
   ],
   "source": [
    "lista1[-1] = 0\n",
    "print(lista1)"
   ]
  },
  {
   "cell_type": "code",
   "execution_count": 10,
   "id": "c5f1f843",
   "metadata": {},
   "outputs": [
    {
     "name": "stdout",
     "output_type": "stream",
     "text": [
      "[1, 2, 3, 4, 5, 6, 7, 8, 0]\n"
     ]
    }
   ],
   "source": [
    "print(lista2)"
   ]
  },
  {
   "cell_type": "code",
   "execution_count": 11,
   "id": "668b5223",
   "metadata": {},
   "outputs": [],
   "source": [
    "lista2[0] = 9"
   ]
  },
  {
   "cell_type": "code",
   "execution_count": 14,
   "id": "b943efe2",
   "metadata": {},
   "outputs": [
    {
     "name": "stdout",
     "output_type": "stream",
     "text": [
      "[9, 2, 3, 4, 5, 6, 7, 8, 0]\n",
      "[9, 2, 3, 4, 5, 6, 7, 8, 0]\n"
     ]
    }
   ],
   "source": [
    "print(lista1)\n",
    "print(lista2)"
   ]
  },
  {
   "cell_type": "code",
   "execution_count": 15,
   "id": "87f4bb82",
   "metadata": {},
   "outputs": [],
   "source": [
    "lista1 = [1,2,3,4,5,6,7,8,9,10]\n",
    "lista2 = lista1[:] #Lista dois vai receber os elementos de lista um e não apontar para lista 1"
   ]
  },
  {
   "cell_type": "code",
   "execution_count": 17,
   "id": "bb8eedb4",
   "metadata": {},
   "outputs": [
    {
     "name": "stdout",
     "output_type": "stream",
     "text": [
      "[0, 2, 3, 4, 5, 6, 7, 8, 9, 10]\n",
      "[1, 2, 3, 4, 5, 6, 7, 8, 9, 10]\n"
     ]
    }
   ],
   "source": [
    "lista1[0] = 0 #Estão em lugares diferentes na memória\n",
    "print(lista1)\n",
    "print(lista2)"
   ]
  },
  {
   "cell_type": "code",
   "execution_count": 24,
   "id": "ce537b49",
   "metadata": {},
   "outputs": [
    {
     "name": "stdout",
     "output_type": "stream",
     "text": [
      "[3, 4, 5]\n"
     ]
    }
   ],
   "source": [
    "fatia = lista1[2:5] #Aqui vão posições !Só uma parte (há limite superior)\n",
    "print(fatia)"
   ]
  },
  {
   "cell_type": "code",
   "execution_count": 1,
   "id": "2d12b449",
   "metadata": {},
   "outputs": [
    {
     "ename": "NameError",
     "evalue": "name 'lista1' is not defined",
     "output_type": "error",
     "traceback": [
      "\u001b[1;31m---------------------------------------------------------------------------\u001b[0m",
      "\u001b[1;31mNameError\u001b[0m                                 Traceback (most recent call last)",
      "\u001b[1;32m~\\AppData\\Local\\Temp/ipykernel_14988/1982435137.py\u001b[0m in \u001b[0;36m<module>\u001b[1;34m\u001b[0m\n\u001b[1;32m----> 1\u001b[1;33m \u001b[0mfatia\u001b[0m \u001b[1;33m=\u001b[0m \u001b[0mlista1\u001b[0m\u001b[1;33m[\u001b[0m\u001b[1;36m2\u001b[0m\u001b[1;33m:\u001b[0m\u001b[1;33m]\u001b[0m \u001b[1;31m#Aqui vão posições !Só uma parte (há limite superior)\u001b[0m\u001b[1;33m\u001b[0m\u001b[1;33m\u001b[0m\u001b[0m\n\u001b[0m\u001b[0;32m      2\u001b[0m \u001b[0mprint\u001b[0m\u001b[1;33m(\u001b[0m\u001b[0mfatia\u001b[0m\u001b[1;33m)\u001b[0m\u001b[1;33m\u001b[0m\u001b[1;33m\u001b[0m\u001b[0m\n",
      "\u001b[1;31mNameError\u001b[0m: name 'lista1' is not defined"
     ]
    }
   ],
   "source": [
    "fatia = lista1[2:] #Aqui vão posições !Só uma parte (há limite superior)\n",
    "print(fatia)"
   ]
  },
  {
   "cell_type": "code",
   "execution_count": 8,
   "id": "dded19b0",
   "metadata": {},
   "outputs": [
    {
     "name": "stdout",
     "output_type": "stream",
     "text": [
      "[1, 3, 5]\n"
     ]
    }
   ],
   "source": [
    "lista1 = [1,2,3,4,5,6,7,8,9,10]\n",
    "lista2 = lista1[0:6:2] #inicio, fim , estep(pulo)\n",
    "print(lista2)"
   ]
  },
  {
   "cell_type": "code",
   "execution_count": 11,
   "id": "4ca95a10",
   "metadata": {},
   "outputs": [
    {
     "name": "stdout",
     "output_type": "stream",
     "text": [
      "[10, 9, 8, 7, 6, 5, 4, 3, 2, 1]\n"
     ]
    }
   ],
   "source": [
    "lista = [1,2,3,4,5,6,7,8,9,10]\n",
    "listaInvert = lista[::-1] #do inicio ao fim com passo negativo\n",
    "print(listaInvert)"
   ]
  },
  {
   "cell_type": "code",
   "execution_count": 13,
   "id": "01f42fee",
   "metadata": {},
   "outputs": [
    {
     "name": "stdout",
     "output_type": "stream",
     "text": [
      "Jackson\n"
     ]
    }
   ],
   "source": [
    "nome = 'Jackson Marcelino de Freitas'\n",
    "print(nome[:7])"
   ]
  },
  {
   "cell_type": "code",
   "execution_count": 15,
   "id": "08f809b8",
   "metadata": {
    "scrolled": true
   },
   "outputs": [
    {
     "name": "stdout",
     "output_type": "stream",
     "text": [
      "\n",
      "J\n",
      "Ja\n",
      "Jac\n",
      "Jack\n",
      "Jacks\n",
      "Jackso\n",
      "Jackson\n",
      "Jackson \n",
      "Jackson M\n",
      "Jackson Ma\n",
      "Jackson Mar\n",
      "Jackson Marc\n",
      "Jackson Marce\n",
      "Jackson Marcel\n",
      "Jackson Marceli\n",
      "Jackson Marcelin\n",
      "Jackson Marcelino\n",
      "Jackson Marcelino \n",
      "Jackson Marcelino d\n",
      "Jackson Marcelino de\n",
      "Jackson Marcelino de \n",
      "Jackson Marcelino de F\n",
      "Jackson Marcelino de Fr\n",
      "Jackson Marcelino de Fre\n",
      "Jackson Marcelino de Frei\n",
      "Jackson Marcelino de Freit\n",
      "Jackson Marcelino de Freita\n",
      "Jackson Marcelino de Freitas\n"
     ]
    }
   ],
   "source": [
    "for i in range(len(nome)+1):\n",
    "    print(nome[:i])"
   ]
  },
  {
   "cell_type": "code",
   "execution_count": 17,
   "id": "700e1bfb",
   "metadata": {
    "scrolled": true
   },
   "outputs": [
    {
     "name": "stdout",
     "output_type": "stream",
     "text": [
      "Jackson Marcelino de Freitas\n",
      "ackson Marcelino de Freitas\n",
      "ckson Marcelino de Freitas\n",
      "kson Marcelino de Freitas\n",
      "son Marcelino de Freitas\n",
      "on Marcelino de Freitas\n",
      "n Marcelino de Freitas\n",
      " Marcelino de Freitas\n",
      "Marcelino de Freitas\n",
      "arcelino de Freitas\n",
      "rcelino de Freitas\n",
      "celino de Freitas\n",
      "elino de Freitas\n",
      "lino de Freitas\n",
      "ino de Freitas\n",
      "no de Freitas\n",
      "o de Freitas\n",
      " de Freitas\n",
      "de Freitas\n",
      "e Freitas\n",
      " Freitas\n",
      "Freitas\n",
      "reitas\n",
      "eitas\n",
      "itas\n",
      "tas\n",
      "as\n",
      "s\n",
      "\n"
     ]
    }
   ],
   "source": [
    "for i in range(len(nome)+1):\n",
    "    print(nome[i:])"
   ]
  },
  {
   "cell_type": "code",
   "execution_count": 19,
   "id": "6d02324f",
   "metadata": {},
   "outputs": [
    {
     "name": "stdout",
     "output_type": "stream",
     "text": [
      "satierF ed onilecraM noskcaJ\n"
     ]
    }
   ],
   "source": [
    "print(nome[::-1])"
   ]
  },
  {
   "cell_type": "code",
   "execution_count": 23,
   "id": "bea3907a",
   "metadata": {},
   "outputs": [
    {
     "name": "stdout",
     "output_type": "stream",
     "text": [
      "Elemento 1 está na lista\n",
      "False\n"
     ]
    }
   ],
   "source": [
    "lista = [1,2,3,4,5,6,7,8,9,10]\n",
    "elemento = 1\n",
    "\n",
    "if elemento in lista:\n",
    "    print('Elemento', elemento, 'está na lista')\n",
    "else:\n",
    "    print('Elemento', elemento, 'não está na lista')\n",
    "    \n",
    "    \n",
    "print(elemento not in lista)#retorna boolean"
   ]
  },
  {
   "cell_type": "code",
   "execution_count": null,
   "id": "d389097d",
   "metadata": {},
   "outputs": [],
   "source": [
    "lista = [1,2,3,4,5,6,7,8,9,10]\n",
    "lista[3:7] = [0,0,0,0,] # possível substituir no intervalo \n",
    "print(lista)"
   ]
  }
 ],
 "metadata": {
  "kernelspec": {
   "display_name": "Python 3 (ipykernel)",
   "language": "python",
   "name": "python3"
  },
  "language_info": {
   "codemirror_mode": {
    "name": "ipython",
    "version": 3
   },
   "file_extension": ".py",
   "mimetype": "text/x-python",
   "name": "python",
   "nbconvert_exporter": "python",
   "pygments_lexer": "ipython3",
   "version": "3.9.6"
  }
 },
 "nbformat": 4,
 "nbformat_minor": 5
}
