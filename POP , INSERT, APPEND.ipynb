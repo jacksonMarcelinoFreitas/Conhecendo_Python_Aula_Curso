{
 "cells": [
  {
   "cell_type": "code",
   "execution_count": 12,
   "id": "f96c7e5c",
   "metadata": {},
   "outputs": [
    {
     "name": "stdout",
     "output_type": "stream",
     "text": [
      "[8, 6, 7, 4]\n",
      "8\n"
     ]
    }
   ],
   "source": [
    "#VETOR\n",
    "lista = [8,6,7,4]\n",
    "print(lista)\n",
    "\n",
    "print(lista[0]) # imprime a posição 0 \n"
   ]
  },
  {
   "cell_type": "code",
   "execution_count": 13,
   "id": "23274989",
   "metadata": {},
   "outputs": [
    {
     "name": "stdout",
     "output_type": "stream",
     "text": [
      "[8, 6, 9, 4]\n",
      "[8, 6, 11, 4]\n"
     ]
    }
   ],
   "source": [
    "#soma\n",
    "lista[2] = 9\n",
    "print(lista)\n",
    "lista[2] += 2\n",
    "print(lista)"
   ]
  },
  {
   "cell_type": "code",
   "execution_count": 21,
   "id": "67cf4fd4",
   "metadata": {},
   "outputs": [
    {
     "name": "stdout",
     "output_type": "stream",
     "text": [
      "10\n"
     ]
    }
   ],
   "source": [
    "#somando posições\n",
    "result = lista[1]+lista[3]\n",
    "print(result)"
   ]
  },
  {
   "cell_type": "code",
   "execution_count": 5,
   "id": "54e64018",
   "metadata": {},
   "outputs": [
    {
     "name": "stdout",
     "output_type": "stream",
     "text": [
      "4\n"
     ]
    }
   ],
   "source": [
    "print(len(lista)) # faz a leitura do tamanho da lista"
   ]
  },
  {
   "cell_type": "code",
   "execution_count": 7,
   "id": "a6fa6dee",
   "metadata": {},
   "outputs": [
    {
     "name": "stdout",
     "output_type": "stream",
     "text": [
      "[5, 6, 'Python', 8.7, True]\n"
     ]
    }
   ],
   "source": [
    "#Um vetor em python aceita vários tipos\n",
    "lista2 = [5,6,'Python', 8.7, True]\n",
    "print(lista2)"
   ]
  },
  {
   "cell_type": "code",
   "execution_count": null,
   "id": "d70955e3",
   "metadata": {},
   "outputs": [],
   "source": []
  },
  {
   "cell_type": "code",
   "execution_count": 15,
   "id": "5d386328",
   "metadata": {},
   "outputs": [
    {
     "name": "stdout",
     "output_type": "stream",
     "text": [
      "[7, 5, 0]\n"
     ]
    }
   ],
   "source": [
    "lista3 = [3, 4, [7,5,0], ['arroz', 'feijão', 'farinha'], 5.8, 3]\n",
    "print(lista3[2]) #mostrando o vetor"
   ]
  },
  {
   "cell_type": "code",
   "execution_count": 32,
   "id": "c6d8ddc8",
   "metadata": {},
   "outputs": [
    {
     "name": "stdout",
     "output_type": "stream",
     "text": [
      "5\n"
     ]
    }
   ],
   "source": [
    "print(lista3[2][1]) #entrou no vetor"
   ]
  },
  {
   "cell_type": "code",
   "execution_count": 41,
   "id": "dd8c77a5",
   "metadata": {},
   "outputs": [
    {
     "name": "stdout",
     "output_type": "stream",
     "text": [
      "feijão\n"
     ]
    }
   ],
   "source": [
    "print(lista3[3][1])"
   ]
  },
  {
   "cell_type": "code",
   "execution_count": 16,
   "id": "5afa404c",
   "metadata": {},
   "outputs": [
    {
     "name": "stdout",
     "output_type": "stream",
     "text": [
      "r\n"
     ]
    }
   ],
   "source": [
    "print(lista3[3][2][2]) #strings são arrays de carcteres"
   ]
  },
  {
   "cell_type": "code",
   "execution_count": 4,
   "id": "09ff6287",
   "metadata": {},
   "outputs": [
    {
     "name": "stdout",
     "output_type": "stream",
     "text": [
      "[1, 2, 3, 4]\n"
     ]
    }
   ],
   "source": [
    "lista4 = [1, 2, 3]\n",
    "lista4.append(4) # append adiciona o elemento à ultima posicao do array\n",
    "print(lista4)"
   ]
  },
  {
   "cell_type": "code",
   "execution_count": 8,
   "id": "59e48f20",
   "metadata": {},
   "outputs": [
    {
     "name": "stdout",
     "output_type": "stream",
     "text": [
      "[1, 2, 3, 4, 5, 5, 5, 5]\n"
     ]
    }
   ],
   "source": [
    "lista4.append(5)\n",
    "print (lista4)"
   ]
  },
  {
   "cell_type": "code",
   "execution_count": 15,
   "id": "4cae103b",
   "metadata": {},
   "outputs": [
    {
     "name": "stdout",
     "output_type": "stream",
     "text": [
      "[1, 2, 3, 4, 5, 5, 5, 5, 'Legal', 'Legal', 'Legal', 'Legal', 'Legal', 'Legal', 'Legal']\n"
     ]
    }
   ],
   "source": [
    "#APPEND\n",
    "lista4.append('Legal')\n",
    "print(lista4)"
   ]
  },
  {
   "cell_type": "code",
   "execution_count": null,
   "id": "5d9babd5",
   "metadata": {},
   "outputs": [],
   "source": [
    "#Pergunte os números a digitar e criar um vetor\n",
    "vetor = [] #cria o vetor vazio \n",
    "\n",
    "quant = int(input(\"Informe a quantidade de elementos do vetor : \")) # pede o tamanho\n",
    "for cont in range(0, quant): # contador  e range setado até quant\n",
    "    cont += 1\n",
    "    add = input(\"Informe o elemento %d\" %(cont)) # add vai receber o elemento\n",
    "    vetor.append(add) # aqui sera adicionado em vetor o add\n",
    "print(vetor) #mostrando o vetor "
   ]
  },
  {
   "cell_type": "code",
   "execution_count": 2,
   "id": "f421ef37",
   "metadata": {},
   "outputs": [
    {
     "name": "stdout",
     "output_type": "stream",
     "text": [
      "[4, 5, 6, 9, 9]\n"
     ]
    }
   ],
   "source": [
    "lista = [4,5,6,9] #adiciona 9\n",
    "lista.append(9)\n",
    "print(lista)\n"
   ]
  },
  {
   "cell_type": "code",
   "execution_count": null,
   "id": "85367d84",
   "metadata": {},
   "outputs": [],
   "source": [
    "lista = []\n",
    "quants = int(input(\"Quantas notas serão digitadas? \"))\n",
    "for i in range(quants):\n",
    "    val = int(input(\"Digite um numero: \"))\n",
    "    lista.append(val)\n",
    "print(lista)\n",
    "\n",
    "\n",
    "\n",
    "\n"
   ]
  },
  {
   "cell_type": "code",
   "execution_count": 1,
   "id": "5e471a12",
   "metadata": {},
   "outputs": [
    {
     "ename": "NameError",
     "evalue": "name 'lista' is not defined",
     "output_type": "error",
     "traceback": [
      "\u001b[1;31m---------------------------------------------------------------------------\u001b[0m",
      "\u001b[1;31mNameError\u001b[0m                                 Traceback (most recent call last)",
      "\u001b[1;32m~\\AppData\\Local\\Temp/ipykernel_16288/2731089832.py\u001b[0m in \u001b[0;36m<module>\u001b[1;34m\u001b[0m\n\u001b[0;32m      1\u001b[0m \u001b[1;31m#POP\u001b[0m\u001b[1;33m\u001b[0m\u001b[1;33m\u001b[0m\u001b[1;33m\u001b[0m\u001b[0m\n\u001b[1;32m----> 2\u001b[1;33m \u001b[0mvalor\u001b[0m \u001b[1;33m=\u001b[0m \u001b[0mlista\u001b[0m\u001b[1;33m.\u001b[0m\u001b[0mpop\u001b[0m\u001b[1;33m(\u001b[0m\u001b[1;33m)\u001b[0m \u001b[1;31m#pode-se definir uma variável para armazenar o número removido\u001b[0m\u001b[1;33m\u001b[0m\u001b[1;33m\u001b[0m\u001b[0m\n\u001b[0m\u001b[0;32m      3\u001b[0m \u001b[0mprint\u001b[0m\u001b[1;33m(\u001b[0m\u001b[0mlista\u001b[0m\u001b[1;33m)\u001b[0m\u001b[1;33m\u001b[0m\u001b[1;33m\u001b[0m\u001b[0m\n\u001b[0;32m      4\u001b[0m \u001b[0mprint\u001b[0m\u001b[1;33m(\u001b[0m\u001b[0mvalor\u001b[0m\u001b[1;33m)\u001b[0m\u001b[1;33m\u001b[0m\u001b[1;33m\u001b[0m\u001b[0m\n\u001b[0;32m      5\u001b[0m \u001b[1;33m\u001b[0m\u001b[0m\n",
      "\u001b[1;31mNameError\u001b[0m: name 'lista' is not defined"
     ]
    }
   ],
   "source": [
    "#POP\n",
    "valor = lista.pop() #pode-se definir uma variável para armazenar o número removido\n",
    "print(lista)\n",
    "print(valor) \n",
    "\n",
    "valor = lista.pop(3) #indica a posição a ser removida!\n",
    "print(lista)\n",
    "print(valor)\n"
   ]
  },
  {
   "cell_type": "code",
   "execution_count": 1,
   "id": "19bc9a9e",
   "metadata": {},
   "outputs": [
    {
     "ename": "NameError",
     "evalue": "name 'lista' is not defined",
     "output_type": "error",
     "traceback": [
      "\u001b[1;31m---------------------------------------------------------------------------\u001b[0m",
      "\u001b[1;31mNameError\u001b[0m                                 Traceback (most recent call last)",
      "\u001b[1;32m~\\AppData\\Local\\Temp/ipykernel_9476/1363589929.py\u001b[0m in \u001b[0;36m<module>\u001b[1;34m\u001b[0m\n\u001b[0;32m      1\u001b[0m \u001b[1;31m#INSERT\u001b[0m\u001b[1;33m\u001b[0m\u001b[1;33m\u001b[0m\u001b[1;33m\u001b[0m\u001b[0m\n\u001b[1;32m----> 2\u001b[1;33m \u001b[0mlista\u001b[0m\u001b[1;33m.\u001b[0m\u001b[0minsert\u001b[0m\u001b[1;33m(\u001b[0m\u001b[1;36m3\u001b[0m\u001b[1;33m,\u001b[0m\u001b[1;36m8\u001b[0m\u001b[1;33m)\u001b[0m \u001b[1;31m#adiciona 8 após a posição 3.\u001b[0m\u001b[1;33m\u001b[0m\u001b[1;33m\u001b[0m\u001b[0m\n\u001b[0m\u001b[0;32m      3\u001b[0m \u001b[0mprint\u001b[0m\u001b[1;33m(\u001b[0m\u001b[0mlista\u001b[0m\u001b[1;33m)\u001b[0m\u001b[1;33m\u001b[0m\u001b[1;33m\u001b[0m\u001b[0m\n",
      "\u001b[1;31mNameError\u001b[0m: name 'lista' is not defined"
     ]
    }
   ],
   "source": [
    "#INSERT\n",
    "lista.insert(3,8) #adiciona 8 após a posição 3.\n",
    "print(lista)\n"
   ]
  },
  {
   "cell_type": "code",
   "execution_count": null,
   "id": "8ae3dc24",
   "metadata": {},
   "outputs": [],
   "source": []
  }
 ],
 "metadata": {
  "kernelspec": {
   "display_name": "Python 3 (ipykernel)",
   "language": "python",
   "name": "python3"
  },
  "language_info": {
   "codemirror_mode": {
    "name": "ipython",
    "version": 3
   },
   "file_extension": ".py",
   "mimetype": "text/x-python",
   "name": "python",
   "nbconvert_exporter": "python",
   "pygments_lexer": "ipython3",
   "version": "3.9.6"
  }
 },
 "nbformat": 4,
 "nbformat_minor": 5
}
