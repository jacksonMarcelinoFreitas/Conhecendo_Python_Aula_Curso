{
 "cells": [
  {
   "cell_type": "code",
   "execution_count": 20,
   "id": "9751c3e6",
   "metadata": {},
   "outputs": [],
   "source": [
    "#Funções em PYTHON\n",
    "\n",
    "def mensagem(nome):\n",
    "    print('Seja bem vindo', nome)\n"
   ]
  },
  {
   "cell_type": "code",
   "execution_count": 23,
   "id": "ae004ec5",
   "metadata": {},
   "outputs": [
    {
     "name": "stdout",
     "output_type": "stream",
     "text": [
      "Seja bem vindo Jackson\n"
     ]
    }
   ],
   "source": [
    "n = 'Jackson'\n",
    "mensagem(n)"
   ]
  },
  {
   "cell_type": "code",
   "execution_count": 27,
   "id": "109336e1",
   "metadata": {},
   "outputs": [],
   "source": [
    "def mensagem2(nome, idade):\n",
    "    print('Olá', nome, 'sua idade é', idade)"
   ]
  },
  {
   "cell_type": "code",
   "execution_count": 29,
   "id": "9229f855",
   "metadata": {},
   "outputs": [
    {
     "name": "stdout",
     "output_type": "stream",
     "text": [
      "Olá Jackson sua idade é 19\n"
     ]
    }
   ],
   "source": [
    "mensagem2('Jackson', 19)"
   ]
  },
  {
   "cell_type": "code",
   "execution_count": 30,
   "id": "b1a790cf",
   "metadata": {},
   "outputs": [],
   "source": [
    "def somar(val1, val2):\n",
    "    resultado = val1 + val2\n",
    "    print(resultado)"
   ]
  },
  {
   "cell_type": "code",
   "execution_count": 32,
   "id": "bf7ff9da",
   "metadata": {},
   "outputs": [
    {
     "name": "stdout",
     "output_type": "stream",
     "text": [
      "7\n"
     ]
    }
   ],
   "source": [
    "somar(3,4)"
   ]
  },
  {
   "cell_type": "code",
   "execution_count": 36,
   "id": "69dd4273",
   "metadata": {},
   "outputs": [],
   "source": [
    "def mensagem(nome = 'Visitante'): #nome padrão(default)\n",
    "    print('Seja bem vindo', nome)"
   ]
  },
  {
   "cell_type": "code",
   "execution_count": 39,
   "id": "25710199",
   "metadata": {},
   "outputs": [
    {
     "name": "stdout",
     "output_type": "stream",
     "text": [
      "Seja bem vindo Jackson\n"
     ]
    }
   ],
   "source": [
    "mensagem('Jackson')"
   ]
  },
  {
   "cell_type": "code",
   "execution_count": 42,
   "id": "07255398",
   "metadata": {},
   "outputs": [],
   "source": [
    "def somar(val1, val2):\n",
    "    resultado = val1 + val2\n",
    "    return resultado # define um retorno"
   ]
  },
  {
   "cell_type": "code",
   "execution_count": 45,
   "id": "83c19984",
   "metadata": {},
   "outputs": [
    {
     "name": "stdout",
     "output_type": "stream",
     "text": [
      "17\n"
     ]
    }
   ],
   "source": [
    "resultado = somar(8,9)\n",
    "print(resultado)"
   ]
  },
  {
   "cell_type": "code",
   "execution_count": 51,
   "id": "28611a10",
   "metadata": {},
   "outputs": [
    {
     "name": "stdout",
     "output_type": "stream",
     "text": [
      "183\n"
     ]
    }
   ],
   "source": [
    "lista = [7,8,9,4,5,70,80]\n",
    "print(sum(lista))"
   ]
  },
  {
   "cell_type": "code",
   "execution_count": 52,
   "id": "903e6cae",
   "metadata": {},
   "outputs": [],
   "source": [
    "def somaLista(lista):\n",
    "    soma = 0\n",
    "    for i in lista:\n",
    "        soma += i;\n",
    "    return soma"
   ]
  },
  {
   "cell_type": "code",
   "execution_count": 53,
   "id": "0f4f58f3",
   "metadata": {},
   "outputs": [
    {
     "data": {
      "text/plain": [
       "183"
      ]
     },
     "execution_count": 53,
     "metadata": {},
     "output_type": "execute_result"
    }
   ],
   "source": [
    "somaLista(lista)"
   ]
  }
 ],
 "metadata": {
  "kernelspec": {
   "display_name": "Python 3 (ipykernel)",
   "language": "python",
   "name": "python3"
  },
  "language_info": {
   "codemirror_mode": {
    "name": "ipython",
    "version": 3
   },
   "file_extension": ".py",
   "mimetype": "text/x-python",
   "name": "python",
   "nbconvert_exporter": "python",
   "pygments_lexer": "ipython3",
   "version": "3.9.6"
  }
 },
 "nbformat": 4,
 "nbformat_minor": 5
}
