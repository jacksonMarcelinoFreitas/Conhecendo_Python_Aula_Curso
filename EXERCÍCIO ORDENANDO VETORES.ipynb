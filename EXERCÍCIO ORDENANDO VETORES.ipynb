{
 "cells": [
  {
   "cell_type": "code",
   "execution_count": 2,
   "id": "ca7ecc0e",
   "metadata": {},
   "outputs": [
    {
     "data": {
      "text/plain": [
       "\"''Faça um programa que leia um número indeterminado de valores, correspondentes a notas,\\nencerrando a entrada de dados quando for informado um valor igual a -1 (que não deve ser armazenado).\\nApós esta entrada de dados, faça:\\n    a.Mostre a quantidade de valores que foram lidos;\\n    b.Exiba todos os valores na ordem em que foram informados, um ao lado do outro;\\n    c.Exiba todos os valores na ordem inversa à que foram informados, um abaixo do outro;\\n    d.Calcule e mostre a soma dos valores;\\n    e.Calcule e mostre a média dos valores;\\n    f.Calcule e mostre a quantidade de valores acima da média calculada;\\n    g.Calcule e mostre a quantidade de valores abaixo de sete;\\n    h.Encerre o programa com uma mensagem;\""
      ]
     },
     "execution_count": 2,
     "metadata": {},
     "output_type": "execute_result"
    }
   ],
   "source": [
    "'''''Faça um programa que leia um número indeterminado de valores, correspondentes a notas,\n",
    "encerrando a entrada de dados quando for informado um valor igual a -1 (que não deve ser armazenado).\n",
    "Após esta entrada de dados, faça:\n",
    "    a.Mostre a quantidade de valores que foram lidos;\n",
    "    b.Exiba todos os valores na ordem em que foram informados, um ao lado do outro;\n",
    "    c.Exiba todos os valores na ordem inversa à que foram informados, um abaixo do outro;\n",
    "    d.Calcule e mostre a soma dos valores;\n",
    "    e.Calcule e mostre a média dos valores;\n",
    "    f.Calcule e mostre a quantidade de valores acima da média calculada;\n",
    "    g.Calcule e mostre a quantidade de valores abaixo de sete;\n",
    "    h.Encerre o programa com uma mensagem;'''''\n",
    "\n"
   ]
  },
  {
   "cell_type": "code",
   "execution_count": 18,
   "id": "3910ec06",
   "metadata": {},
   "outputs": [
    {
     "name": "stdout",
     "output_type": "stream",
     "text": [
      "Informe a nota1\n",
      "Informe a nota2\n",
      "Informe a nota3\n",
      "Informe a nota4\n",
      "Informe a nota5\n",
      "Informe a nota6\n",
      "Informe a nota7\n",
      "Informe a nota8\n",
      "Informe a nota9\n",
      "Informe a nota-1\n",
      "[1, 2, 3, 4, 5, 6, 7, 8, 9]\n",
      "A quantidade de valores é : 9\n",
      "[1, 2, 3, 4, 5, 6, 7, 8, 9]\n",
      "9\n",
      "8\n",
      "7\n",
      "6\n",
      "5\n",
      "4\n",
      "3\n",
      "2\n",
      "1\n",
      "A soma dos valores é 45\n",
      "A media dos valores é 5.0\n",
      "[9, 8, 7, 6]\n",
      "Notas acima da media são : 4\n",
      "[6, 5, 4, 3, 2, 1]\n",
      "Notas abaixo de sete são : 4\n"
     ]
    }
   ],
   "source": [
    "nota = []\n",
    "i = 0\n",
    "\n",
    "while True:\n",
    "    nota.append(int(input(\"Informe a nota\")))\n",
    "    if nota[i] == -1:\n",
    "        nota.pop()\n",
    "        break;\n",
    "    i = i + 1\n",
    "    \n",
    "print(nota)\n",
    "\n",
    "#Mostrando quantidade de valores lidos\n",
    "print(\"A quantidade de valores é : \" + str(len(nota)))\n",
    "\n",
    "#Mostrando os valores um ao lado do outro\n",
    "print(nota)\n",
    "\n",
    "#Mostrando na ordem inversa e abaixo um do outro\n",
    "nota.reverse()\n",
    "tamanho = len(nota)\n",
    "for i in range(tamanho):\n",
    "    print(nota[i])\n",
    "\n",
    "#Soma dos valores\n",
    "soma = sum(nota)\n",
    "print(\"A soma dos valores é \" + str(soma))\n",
    "\n",
    "#Média dos valores\n",
    "media = soma/len(nota)\n",
    "print(\"A media dos valores é \" + str(media))\n",
    "\n",
    "#Quantidade de valores acima da media\n",
    "notaNova = []\n",
    "for i in range(len(nota)):\n",
    "    if nota[i] > media:\n",
    "        notaNova.append(nota[i])\n",
    "print(notaNova)\n",
    "print(\"Notas acima da media são : \" + str(len(notaNova)))\n",
    "\n",
    "#valores abaixo de sete\n",
    "notaAbaixo = []\n",
    "for i in range(len(nota)):\n",
    "    if nota[i] < 7:\n",
    "        notaAbaixo.append(nota[i])\n",
    "print(notaAbaixo)\n",
    "print(\"Notas abaixo de sete são : \" + str(len(notaNova)))\n",
    "\n",
    "print(\"Tchau!\")\n",
    "\n",
    "    \n",
    "\n",
    "\n",
    "     "
   ]
  },
  {
   "cell_type": "code",
   "execution_count": null,
   "id": "2784125a",
   "metadata": {},
   "outputs": [],
   "source": []
  }
 ],
 "metadata": {
  "kernelspec": {
   "display_name": "Python 3 (ipykernel)",
   "language": "python",
   "name": "python3"
  },
  "language_info": {
   "codemirror_mode": {
    "name": "ipython",
    "version": 3
   },
   "file_extension": ".py",
   "mimetype": "text/x-python",
   "name": "python",
   "nbconvert_exporter": "python",
   "pygments_lexer": "ipython3",
   "version": "3.9.6"
  }
 },
 "nbformat": 4,
 "nbformat_minor": 5
}
